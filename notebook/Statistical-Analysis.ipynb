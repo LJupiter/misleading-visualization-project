{
 "cells": [
  {
   "cell_type": "code",
   "execution_count": 1,
   "id": "d9268b79-26ad-4d9c-801e-5830dab7d7f8",
   "metadata": {},
   "outputs": [],
   "source": [
    "import pandas as pd\n",
    "import seaborn as sns\n",
    "import matplotlib.pyplot as plt\n",
    "import scipy.stats as stats\n",
    "from scipy.stats import chi2_contingency\n",
    "import statsmodels.formula.api as smf\n",
    "import scipy.stats as stats\n",
    "from scipy.stats import shapiro\n",
    "from scipy.stats import levene\n",
    "import scikit_posthocs as sp\n",
    "from scipy.stats import f_oneway\n",
    "from scipy.stats import kruskal\n",
    "import scikit_posthocs as sp\n",
    "import statsmodels.api as sm\n",
    "from statsmodels.formula.api import ols\n",
    "from scipy.stats import friedmanchisquare\n",
    "from scipy.stats import wilcoxon\n",
    "from itertools import combinations\n",
    "from statsmodels.stats.outliers_influence import variance_inflation_factor\n",
    "from statsmodels.tools.tools import add_constant"
   ]
  },
  {
   "cell_type": "code",
   "execution_count": 5,
   "id": "31344b31-0d37-476d-b255-a476022dbef2",
   "metadata": {},
   "outputs": [
    {
     "data": {
      "text/html": [
       "<div>\n",
       "<style scoped>\n",
       "    .dataframe tbody tr th:only-of-type {\n",
       "        vertical-align: middle;\n",
       "    }\n",
       "\n",
       "    .dataframe tbody tr th {\n",
       "        vertical-align: top;\n",
       "    }\n",
       "\n",
       "    .dataframe thead th {\n",
       "        text-align: right;\n",
       "    }\n",
       "</style>\n",
       "<table border=\"1\" class=\"dataframe\">\n",
       "  <thead>\n",
       "    <tr style=\"text-align: right;\">\n",
       "      <th></th>\n",
       "      <th>ID</th>\n",
       "      <th>Prompt</th>\n",
       "      <th>Cluster</th>\n",
       "      <th>Batch</th>\n",
       "      <th>Classification</th>\n",
       "      <th>Alignment</th>\n",
       "      <th>Explanation</th>\n",
       "      <th>Precision</th>\n",
       "    </tr>\n",
       "  </thead>\n",
       "  <tbody>\n",
       "    <tr>\n",
       "      <th>0</th>\n",
       "      <td>1</td>\n",
       "      <td>Zero</td>\n",
       "      <td>stage_1</td>\n",
       "      <td>1</td>\n",
       "      <td>1</td>\n",
       "      <td>3</td>\n",
       "      <td>2</td>\n",
       "      <td>2</td>\n",
       "    </tr>\n",
       "    <tr>\n",
       "      <th>1</th>\n",
       "      <td>1</td>\n",
       "      <td>Two</td>\n",
       "      <td>stage_1</td>\n",
       "      <td>1</td>\n",
       "      <td>1</td>\n",
       "      <td>1</td>\n",
       "      <td>2</td>\n",
       "      <td>1</td>\n",
       "    </tr>\n",
       "    <tr>\n",
       "      <th>2</th>\n",
       "      <td>1</td>\n",
       "      <td>Four</td>\n",
       "      <td>stage_1</td>\n",
       "      <td>1</td>\n",
       "      <td>1</td>\n",
       "      <td>1</td>\n",
       "      <td>1</td>\n",
       "      <td>0</td>\n",
       "    </tr>\n",
       "    <tr>\n",
       "      <th>3</th>\n",
       "      <td>2</td>\n",
       "      <td>Zero</td>\n",
       "      <td>stage_1</td>\n",
       "      <td>1</td>\n",
       "      <td>0</td>\n",
       "      <td>0</td>\n",
       "      <td>0</td>\n",
       "      <td>0</td>\n",
       "    </tr>\n",
       "    <tr>\n",
       "      <th>4</th>\n",
       "      <td>2</td>\n",
       "      <td>Two</td>\n",
       "      <td>stage_1</td>\n",
       "      <td>1</td>\n",
       "      <td>1</td>\n",
       "      <td>1</td>\n",
       "      <td>1</td>\n",
       "      <td>1</td>\n",
       "    </tr>\n",
       "    <tr>\n",
       "      <th>...</th>\n",
       "      <td>...</td>\n",
       "      <td>...</td>\n",
       "      <td>...</td>\n",
       "      <td>...</td>\n",
       "      <td>...</td>\n",
       "      <td>...</td>\n",
       "      <td>...</td>\n",
       "      <td>...</td>\n",
       "    </tr>\n",
       "    <tr>\n",
       "      <th>217</th>\n",
       "      <td>73</td>\n",
       "      <td>Two</td>\n",
       "      <td>stage_5</td>\n",
       "      <td>1</td>\n",
       "      <td>1</td>\n",
       "      <td>1</td>\n",
       "      <td>0</td>\n",
       "      <td>0</td>\n",
       "    </tr>\n",
       "    <tr>\n",
       "      <th>218</th>\n",
       "      <td>73</td>\n",
       "      <td>Four</td>\n",
       "      <td>stage_5</td>\n",
       "      <td>1</td>\n",
       "      <td>1</td>\n",
       "      <td>1</td>\n",
       "      <td>1</td>\n",
       "      <td>0</td>\n",
       "    </tr>\n",
       "    <tr>\n",
       "      <th>219</th>\n",
       "      <td>74</td>\n",
       "      <td>Zero</td>\n",
       "      <td>stage_5</td>\n",
       "      <td>1</td>\n",
       "      <td>0</td>\n",
       "      <td>0</td>\n",
       "      <td>0</td>\n",
       "      <td>0</td>\n",
       "    </tr>\n",
       "    <tr>\n",
       "      <th>220</th>\n",
       "      <td>74</td>\n",
       "      <td>Two</td>\n",
       "      <td>stage_5</td>\n",
       "      <td>1</td>\n",
       "      <td>0</td>\n",
       "      <td>0</td>\n",
       "      <td>0</td>\n",
       "      <td>0</td>\n",
       "    </tr>\n",
       "    <tr>\n",
       "      <th>221</th>\n",
       "      <td>74</td>\n",
       "      <td>Four</td>\n",
       "      <td>stage_5</td>\n",
       "      <td>1</td>\n",
       "      <td>0</td>\n",
       "      <td>0</td>\n",
       "      <td>1</td>\n",
       "      <td>0</td>\n",
       "    </tr>\n",
       "  </tbody>\n",
       "</table>\n",
       "<p>222 rows × 8 columns</p>\n",
       "</div>"
      ],
      "text/plain": [
       "     ID Prompt  Cluster  Batch  Classification  Alignment  Explanation  \\\n",
       "0     1   Zero  stage_1      1               1          3            2   \n",
       "1     1    Two  stage_1      1               1          1            2   \n",
       "2     1   Four  stage_1      1               1          1            1   \n",
       "3     2   Zero  stage_1      1               0          0            0   \n",
       "4     2    Two  stage_1      1               1          1            1   \n",
       "..   ..    ...      ...    ...             ...        ...          ...   \n",
       "217  73    Two  stage_5      1               1          1            0   \n",
       "218  73   Four  stage_5      1               1          1            1   \n",
       "219  74   Zero  stage_5      1               0          0            0   \n",
       "220  74    Two  stage_5      1               0          0            0   \n",
       "221  74   Four  stage_5      1               0          0            1   \n",
       "\n",
       "     Precision  \n",
       "0            2  \n",
       "1            1  \n",
       "2            0  \n",
       "3            0  \n",
       "4            1  \n",
       "..         ...  \n",
       "217          0  \n",
       "218          0  \n",
       "219          0  \n",
       "220          0  \n",
       "221          0  \n",
       "\n",
       "[222 rows x 8 columns]"
      ]
     },
     "execution_count": 5,
     "metadata": {},
     "output_type": "execute_result"
    }
   ],
   "source": [
    "df = pd.read_excel(\"C:/Users/...../Excel/AIOutput.xlsx\")\n",
    "\n",
    "df"
   ]
  },
  {
   "cell_type": "code",
   "execution_count": 3,
   "id": "f0bc1389-abe0-44ac-98ef-3e42768bf935",
   "metadata": {},
   "outputs": [
    {
     "data": {
      "text/html": [
       "<div>\n",
       "<style scoped>\n",
       "    .dataframe tbody tr th:only-of-type {\n",
       "        vertical-align: middle;\n",
       "    }\n",
       "\n",
       "    .dataframe tbody tr th {\n",
       "        vertical-align: top;\n",
       "    }\n",
       "\n",
       "    .dataframe thead th {\n",
       "        text-align: right;\n",
       "    }\n",
       "</style>\n",
       "<table border=\"1\" class=\"dataframe\">\n",
       "  <thead>\n",
       "    <tr style=\"text-align: right;\">\n",
       "      <th></th>\n",
       "      <th>ID</th>\n",
       "      <th>Batch</th>\n",
       "      <th>Classification</th>\n",
       "      <th>Alignment</th>\n",
       "      <th>Explanation</th>\n",
       "      <th>Precision</th>\n",
       "    </tr>\n",
       "  </thead>\n",
       "  <tbody>\n",
       "    <tr>\n",
       "      <th>count</th>\n",
       "      <td>222.000000</td>\n",
       "      <td>222.0</td>\n",
       "      <td>222.000000</td>\n",
       "      <td>222.000000</td>\n",
       "      <td>222.000000</td>\n",
       "      <td>222.000000</td>\n",
       "    </tr>\n",
       "    <tr>\n",
       "      <th>mean</th>\n",
       "      <td>37.500000</td>\n",
       "      <td>1.0</td>\n",
       "      <td>0.608108</td>\n",
       "      <td>1.211712</td>\n",
       "      <td>1.166667</td>\n",
       "      <td>0.612613</td>\n",
       "    </tr>\n",
       "    <tr>\n",
       "      <th>std</th>\n",
       "      <td>21.408281</td>\n",
       "      <td>0.0</td>\n",
       "      <td>0.489276</td>\n",
       "      <td>1.463043</td>\n",
       "      <td>0.953283</td>\n",
       "      <td>1.081905</td>\n",
       "    </tr>\n",
       "    <tr>\n",
       "      <th>min</th>\n",
       "      <td>1.000000</td>\n",
       "      <td>1.0</td>\n",
       "      <td>0.000000</td>\n",
       "      <td>0.000000</td>\n",
       "      <td>0.000000</td>\n",
       "      <td>0.000000</td>\n",
       "    </tr>\n",
       "    <tr>\n",
       "      <th>25%</th>\n",
       "      <td>19.000000</td>\n",
       "      <td>1.0</td>\n",
       "      <td>0.000000</td>\n",
       "      <td>0.000000</td>\n",
       "      <td>1.000000</td>\n",
       "      <td>0.000000</td>\n",
       "    </tr>\n",
       "    <tr>\n",
       "      <th>50%</th>\n",
       "      <td>37.500000</td>\n",
       "      <td>1.0</td>\n",
       "      <td>1.000000</td>\n",
       "      <td>1.000000</td>\n",
       "      <td>1.000000</td>\n",
       "      <td>0.000000</td>\n",
       "    </tr>\n",
       "    <tr>\n",
       "      <th>75%</th>\n",
       "      <td>56.000000</td>\n",
       "      <td>1.0</td>\n",
       "      <td>1.000000</td>\n",
       "      <td>2.000000</td>\n",
       "      <td>1.000000</td>\n",
       "      <td>1.000000</td>\n",
       "    </tr>\n",
       "    <tr>\n",
       "      <th>max</th>\n",
       "      <td>74.000000</td>\n",
       "      <td>1.0</td>\n",
       "      <td>1.000000</td>\n",
       "      <td>5.000000</td>\n",
       "      <td>5.000000</td>\n",
       "      <td>5.000000</td>\n",
       "    </tr>\n",
       "  </tbody>\n",
       "</table>\n",
       "</div>"
      ],
      "text/plain": [
       "               ID  Batch  Classification   Alignment  Explanation   Precision\n",
       "count  222.000000  222.0      222.000000  222.000000   222.000000  222.000000\n",
       "mean    37.500000    1.0        0.608108    1.211712     1.166667    0.612613\n",
       "std     21.408281    0.0        0.489276    1.463043     0.953283    1.081905\n",
       "min      1.000000    1.0        0.000000    0.000000     0.000000    0.000000\n",
       "25%     19.000000    1.0        0.000000    0.000000     1.000000    0.000000\n",
       "50%     37.500000    1.0        1.000000    1.000000     1.000000    0.000000\n",
       "75%     56.000000    1.0        1.000000    2.000000     1.000000    1.000000\n",
       "max     74.000000    1.0        1.000000    5.000000     5.000000    5.000000"
      ]
     },
     "execution_count": 3,
     "metadata": {},
     "output_type": "execute_result"
    }
   ],
   "source": [
    "df.describe()"
   ]
  },
  {
   "cell_type": "code",
   "execution_count": 9,
   "id": "973aafff-ae99-4ea8-a8cf-f2fb6ae5b0a2",
   "metadata": {},
   "outputs": [
    {
     "name": "stdout",
     "output_type": "stream",
     "text": [
      "          feature       VIF\n",
      "0  Classification  3.583115\n",
      "1       Alignment  6.876721\n",
      "2     Explanation  3.369649\n",
      "3       Precision  4.812864\n"
     ]
    }
   ],
   "source": [
    "X = df[['Classification', 'Alignment', 'Explanation', 'Precision']]\n",
    "\n",
    "X = add_constant(X)\n",
    "X = X.drop('const', axis=1)\n",
    "\n",
    "vif_data = pd.DataFrame()\n",
    "vif_data[\"feature\"] = X.columns\n",
    "vif_data[\"VIF\"] = [variance_inflation_factor(X.values, i) for i in range(X.shape[1])]\n",
    "\n",
    "print(vif_data)"
   ]
  },
  {
   "cell_type": "markdown",
   "id": "ba2945c1-1a0e-4c3b-8669-47852f362a69",
   "metadata": {},
   "source": [
    "# Classifications"
   ]
  },
  {
   "cell_type": "code",
   "execution_count": 5,
   "id": "1b797c1e-9924-4fe9-b6e6-0c2e939f1dad",
   "metadata": {},
   "outputs": [
    {
     "name": "stdout",
     "output_type": "stream",
     "text": [
      "   Cluster  Misclassifications\n",
      "2  stage_3                  25\n",
      "1  stage_2                  21\n",
      "0  stage_1                  16\n",
      "4  stage_5                  14\n",
      "3  stage_4                  11\n"
     ]
    }
   ],
   "source": [
    "cluster_errors = df[df['Classification'] == 0].groupby('Cluster').size().reset_index(name='Misclassifications')\n",
    "\n",
    "cluster_errors_sorted = cluster_errors.sort_values(by='Misclassifications', ascending=False)\n",
    "\n",
    "print(cluster_errors_sorted)"
   ]
  },
  {
   "cell_type": "code",
   "execution_count": 6,
   "id": "e38c864e-b8d3-4618-a598-c5b98b4ccce6",
   "metadata": {},
   "outputs": [
    {
     "name": "stdout",
     "output_type": "stream",
     "text": [
      "   Cluster  Misclassifications  Total  Error Rate (%)\n",
      "4  stage_5                  14     33       42.424242\n",
      "3  stage_4                  11     27       40.740741\n",
      "1  stage_2                  21     54       38.888889\n",
      "0  stage_1                  16     42       38.095238\n",
      "2  stage_3                  25     66       37.878788\n"
     ]
    }
   ],
   "source": [
    "misclassifications = df[df['Classification'] == 0].groupby('Cluster').size().reset_index(name='Misclassifications')\n",
    "\n",
    "total_per_cluster = df.groupby('Cluster').size().reset_index(name='Total')\n",
    "\n",
    "cluster_stats = misclassifications.merge(total_per_cluster, on='Cluster')\n",
    "\n",
    "cluster_stats['Error Rate (%)'] = 100 * cluster_stats['Misclassifications'] / cluster_stats['Total']\n",
    "\n",
    "cluster_stats_sorted = cluster_stats.sort_values(by='Error Rate (%)', ascending=False)\n",
    "\n",
    "print(cluster_stats_sorted)"
   ]
  },
  {
   "cell_type": "markdown",
   "id": "27d635d6-458f-47a2-951d-131b026eca29",
   "metadata": {},
   "source": [
    "### Cluster"
   ]
  },
  {
   "cell_type": "code",
   "execution_count": 8,
   "id": "709ae13c-7cfb-4c01-b5db-ecd406eb8964",
   "metadata": {},
   "outputs": [
    {
     "name": "stdout",
     "output_type": "stream",
     "text": [
      "Chi-square test statistic: 0.2429\n",
      "p-value: 0.9932\n",
      "No statistically significant association found between Cluster and Classification.\n"
     ]
    }
   ],
   "source": [
    "contingency_table = pd.crosstab(df['Cluster'], df['Classification'])\n",
    "\n",
    "chi2, p, dof, expected = chi2_contingency(contingency_table)\n",
    "\n",
    "print(f\"Chi-square test statistic: {chi2:.4f}\")\n",
    "print(f\"p-value: {p:.4f}\")\n",
    "\n",
    "if p < 0.05:\n",
    "    print(\"There is a statistically significant association between Cluster and Classification (misclassification rates differ).\")\n",
    "else:\n",
    "    print(\"No statistically significant association found between Cluster and Classification.\")\n"
   ]
  },
  {
   "cell_type": "code",
   "execution_count": 9,
   "id": "b132e44e-dcd5-44ec-9e80-44be850fbff0",
   "metadata": {},
   "outputs": [
    {
     "name": "stdout",
     "output_type": "stream",
     "text": [
      "Optimization terminated successfully.\n",
      "         Current function value: 0.669042\n",
      "         Iterations 4\n",
      "                           Logit Regression Results                           \n",
      "==============================================================================\n",
      "Dep. Variable:          Misclassified   No. Observations:                  222\n",
      "Model:                          Logit   Df Residuals:                      217\n",
      "Method:                           MLE   Df Model:                            4\n",
      "Date:                Sat, 17 May 2025   Pseudo R-squ.:               0.0008131\n",
      "Time:                        15:01:04   Log-Likelihood:                -148.53\n",
      "converged:                       True   LL-Null:                       -148.65\n",
      "Covariance Type:            nonrobust   LLR p-value:                    0.9933\n",
      "=========================================================================================\n",
      "                            coef    std err          z      P>|z|      [0.025      0.975]\n",
      "-----------------------------------------------------------------------------------------\n",
      "Intercept                -0.4855      0.318     -1.528      0.127      -1.108       0.137\n",
      "C(Cluster)[T.stage_2]     0.0335      0.423      0.079      0.937      -0.795       0.862\n",
      "C(Cluster)[T.stage_3]    -0.0092      0.407     -0.023      0.982      -0.806       0.788\n",
      "C(Cluster)[T.stage_4]     0.1108      0.504      0.220      0.826      -0.878       1.099\n",
      "C(Cluster)[T.stage_5]     0.1801      0.474      0.380      0.704      -0.750       1.110\n",
      "=========================================================================================\n"
     ]
    }
   ],
   "source": [
    "df['Misclassified'] = 1 - df['Classification']\n",
    "\n",
    "model = smf.logit(\"Misclassified ~ C(Cluster)\", data=df).fit()\n",
    "\n",
    "print(model.summary())"
   ]
  },
  {
   "cell_type": "markdown",
   "id": "b7c05b8f-ae82-46b7-969c-00147632bafe",
   "metadata": {},
   "source": [
    "### Prompting"
   ]
  },
  {
   "cell_type": "code",
   "execution_count": 145,
   "id": "6845eb23-1c66-4d88-a525-72af1bb06468",
   "metadata": {},
   "outputs": [
    {
     "data": {
      "image/png": "[encoded data removed]",
      "text/plain": [
       "<Figure size 800x500 with 1 Axes>"
      ]
     },
     "metadata": {},
     "output_type": "display_data"
    }
   ],
   "source": [
    "classification_counts = df.groupby(['Prompt', 'Classification']).size().reset_index(name='Count')\n",
    "\n",
    "classification_counts['Prediction Result'] = classification_counts['Classification'].map({0: 'Incorrect', 1: 'Correct'})\n",
    "\n",
    "# Plot\n",
    "plt.figure(figsize=(8, 5))\n",
    "sns.barplot(\n",
    "    data=classification_counts,\n",
    "    x='Prompt',\n",
    "    y='Count',\n",
    "    hue='Prediction Result',\n",
    "    palette={'Incorrect': '#d9534f', 'Correct': '#5cb85c'}\n",
    ")\n",
    "plt.title('Classification Counts by Prompt')\n",
    "plt.show()"
   ]
  },
  {
   "cell_type": "code",
   "execution_count": 12,
   "id": "17323783-d91c-4b5b-b340-69cead9a4410",
   "metadata": {},
   "outputs": [
    {
     "name": "stdout",
     "output_type": "stream",
     "text": [
      "Classification   0   1\n",
      "Prompt                \n",
      "Four            22  52\n",
      "Two             34  40\n",
      "Zero            31  43\n",
      "Chi-square statistic = 4.4230\n",
      "p-value = 0.1095\n"
     ]
    }
   ],
   "source": [
    "contingency_table = pd.crosstab(df['Prompt'], df['Classification'])\n",
    "print(contingency_table)\n",
    "\n",
    "chi2, p, dof, expected = chi2_contingency(contingency_table)\n",
    "\n",
    "print(f\"Chi-square statistic = {chi2:.4f}\")\n",
    "print(f\"p-value = {p:.4f}\")"
   ]
  },
  {
   "cell_type": "markdown",
   "id": "db1065a3-194c-4b71-8626-12ee304af059",
   "metadata": {},
   "source": [
    "# Alignment"
   ]
  },
  {
   "cell_type": "code",
   "execution_count": 14,
   "id": "f07e43ca-c669-446c-bcdb-38287f2f1392",
   "metadata": {},
   "outputs": [
    {
     "name": "stdout",
     "output_type": "stream",
     "text": [
      "   Cluster  Alignment\n",
      "3  stage_4   1.407407\n",
      "1  stage_2   1.370370\n",
      "2  stage_3   1.227273\n",
      "0  stage_1   1.190476\n",
      "4  stage_5   0.787879\n"
     ]
    }
   ],
   "source": [
    "alignment_by_cluster = df.groupby('Cluster')['Alignment'].mean().reset_index()\n",
    "alignment_by_cluster = alignment_by_cluster.sort_values(by='Alignment', ascending=False)\n",
    "\n",
    "print(alignment_by_cluster)"
   ]
  },
  {
   "cell_type": "code",
   "execution_count": 15,
   "id": "2d572742-5f78-4e42-88ff-6b2eded0f982",
   "metadata": {},
   "outputs": [
    {
     "name": "stdout",
     "output_type": "stream",
     "text": [
      "  Prompt  Alignment\n",
      "2   Zero   1.567568\n",
      "0   Four   1.216216\n",
      "1    Two   0.851351\n"
     ]
    }
   ],
   "source": [
    "alignment_by_prompt = df.groupby('Prompt')['Alignment'].mean().reset_index()\n",
    "alignment_by_prompt = alignment_by_prompt.sort_values(by='Alignment', ascending=False)\n",
    "\n",
    "print(alignment_by_prompt)\n"
   ]
  },
  {
   "cell_type": "code",
   "execution_count": 16,
   "id": "b717e820-d9fd-466b-bbca-d1fa7d21c8fc",
   "metadata": {},
   "outputs": [
    {
     "data": {
      "image/png": "[encoded data removed]",
      "text/plain": [
       "<Figure size 1000x500 with 1 Axes>"
      ]
     },
     "metadata": {},
     "output_type": "display_data"
    },
    {
     "name": "stdout",
     "output_type": "stream",
     "text": [
      "Shapiro test for Zero: W=0.817, p=0.000\n",
      "Shapiro test for Two: W=0.731, p=0.000\n",
      "Shapiro test for Four: W=0.686, p=0.000\n",
      "Levene's test: Stat=6.419, p=0.002\n"
     ]
    }
   ],
   "source": [
    "# Plot\n",
    "plt.figure(figsize=(10,5))\n",
    "sns.boxplot(x='Prompt', y='Alignment', data=df)\n",
    "plt.title('Alignment Scores by Prompt')\n",
    "plt.show()\n",
    "\n",
    "# Test for normality of Alignment within each Prompt\n",
    "for prompt in df['Prompt'].unique():\n",
    "    w, pvalue = stats.shapiro(df.loc[df['Prompt'] == prompt, 'Alignment'])\n",
    "    print(f'Shapiro test for {prompt}: W={w:.3f}, p={pvalue:.3f}')\n",
    "\n",
    "# Test for homogeneity of variances\n",
    "levene_stat, levene_p = stats.levene(*[df.loc[df['Prompt'] == p, 'Alignment'] for p in df['Prompt'].unique()])\n",
    "print(f\"Levene's test: Stat={levene_stat:.3f}, p={levene_p:.3f}\")"
   ]
  },
  {
   "cell_type": "code",
   "execution_count": 123,
   "id": "0a325db1-ce81-4486-859f-bdecc3c087f9",
   "metadata": {},
   "outputs": [
    {
     "name": "stdout",
     "output_type": "stream",
     "text": [
      "\n",
      "# Friedman Test for Related Samples\n",
      "H0: The distributions of Alignment are the same across Prompt groups\n",
      "H1: At least one Prompt group differs\n",
      "\n",
      "Groups found: ['Four', 'Two', 'Zero']\n",
      "Friedman test: Chi-square = 7.193, p = 0.027\n",
      "\n",
      "Significant differences found. Post-hoc Wilcoxon signed-rank tests (Bonferroni corrected):\n",
      "\n",
      "  Comparison  Wilcoxon Statistic  Raw p-value  Bonferroni p\n",
      " Four vs Two               402.0       0.0764        0.2292\n",
      "Four vs Zero               546.0       0.1282        0.3846\n",
      " Two vs Zero               394.0       0.0040        0.0121\n"
     ]
    }
   ],
   "source": [
    "def friedman_test_repeated_measures(df, id_col, group_col, value_col):\n",
    "    print(f\"\\n# Friedman Test for Related Samples\")\n",
    "    print(f\"H0: The distributions of {value_col} are the same across {group_col} groups\")\n",
    "    print(f\"H1: At least one {group_col} group differs\\n\")\n",
    "    \n",
    "    df_wide = df.pivot(index=id_col, columns=group_col, values=value_col).dropna()\n",
    "    \n",
    "    groups = df_wide.columns.tolist()\n",
    "    print(f\"Groups found: {groups}\")\n",
    "    \n",
    "    data_for_test = [df_wide[group] for group in groups]\n",
    "    \n",
    "    if any(len(g) == 0 for g in data_for_test):\n",
    "        print(\"Not enough data in one or more groups for testing.\")\n",
    "        return\n",
    "    \n",
    "    friedman_stat, friedman_p = stats.friedmanchisquare(*data_for_test)\n",
    "    print(f\"Friedman test: Chi-square = {friedman_stat:.3f}, p = {friedman_p:.3f}\\n\")\n",
    "    \n",
    "    if friedman_p < 0.05:\n",
    "        print(\"Significant differences found. Post-hoc Wilcoxon signed-rank tests (Bonferroni corrected):\\n\")\n",
    "        results = []\n",
    "\n",
    "        for g1, g2 in combinations(groups, 2):\n",
    "            stat, p = stats.wilcoxon(df_wide[g1], df_wide[g2])\n",
    "            p_adj = min(p * 3, 1.0)  # 3 comparisons total → Bonferroni correction\n",
    "            results.append({\n",
    "                'Comparison': f\"{g1} vs {g2}\",\n",
    "                'Wilcoxon Statistic': round(stat, 3),\n",
    "                'Raw p-value': round(p, 4),\n",
    "                'Bonferroni p': round(p_adj, 4)\n",
    "            })\n",
    "\n",
    "        posthoc_df = pd.DataFrame(results)\n",
    "        print(posthoc_df.to_string(index=False))\n",
    "    else:\n",
    "        print(\"No significant differences found. Post-hoc tests not performed.\")\n",
    "\n",
    "friedman_test_repeated_measures(df, id_col='ID', group_col='Prompt', value_col='Alignment')"
   ]
  },
  {
   "cell_type": "markdown",
   "id": "67d90273-483a-4fde-a9c3-46a13347226e",
   "metadata": {},
   "source": [
    "# Explanation"
   ]
  },
  {
   "cell_type": "code",
   "execution_count": 99,
   "id": "95a234d4-af00-4c5c-822b-ed3da155ece3",
   "metadata": {},
   "outputs": [
    {
     "name": "stdout",
     "output_type": "stream",
     "text": [
      "   Cluster      mean       std  count\n",
      "1  stage_2  1.388889  1.053595     54\n",
      "0  stage_1  1.309524  0.975007     42\n",
      "3  stage_4  1.222222  1.187542     27\n",
      "2  stage_3  1.060606  0.839025     66\n",
      "4  stage_5  0.787879  0.599874     33\n"
     ]
    }
   ],
   "source": [
    "explanation_by_cluster = df.groupby('Cluster')['Explanation'].agg(['mean', 'std', 'count']).reset_index()\n",
    "explanation_by_cluster = explanation_by_cluster.sort_values(by='mean', ascending=False)\n",
    "\n",
    "print(explanation_by_cluster)"
   ]
  },
  {
   "cell_type": "code",
   "execution_count": 105,
   "id": "350d347b-1f66-4230-ac40-1bb1c5a8da37",
   "metadata": {},
   "outputs": [
    {
     "name": "stderr",
     "output_type": "stream",
     "text": [
      "C:\\Users\\......\\ipykernel_14268\\1236709420.py:5: FutureWarning: \n",
      "\n",
      "The `ci` parameter is deprecated. Use `errorbar='sd'` for the same effect.\n",
      "\n",
      "  sns.barplot(data=df, x='Cluster', y='Explanation', ci='sd', palette='viridis')\n",
      "C:\\Users\\......\\ipykernel_14268\\1236709420.py:5: FutureWarning: \n",
      "\n",
      "Passing `palette` without assigning `hue` is deprecated and will be removed in v0.14.0. Assign the `x` variable to `hue` and set `legend=False` for the same effect.\n",
      "\n",
      "  sns.barplot(data=df, x='Cluster', y='Explanation', ci='sd', palette='viridis')\n"
     ]
    },
    {
     "data": {
      "image/png": "[encoded data removed]",
      "text/plain": [
       "<Figure size 800x500 with 1 Axes>"
      ]
     },
     "metadata": {},
     "output_type": "display_data"
    }
   ],
   "source": [
    "# Plot\n",
    "plt.figure(figsize=(8, 5))\n",
    "sns.barplot(data=df, x='Cluster', y='Explanation', ci='sd', palette='viridis')\n",
    "plt.title('Average Explanation Score by Cluster')\n",
    "plt.ylabel('')\n",
    "plt.xlabel('')\n",
    "plt.tight_layout()\n",
    "plt.show()"
   ]
  },
  {
   "cell_type": "code",
   "execution_count": 22,
   "id": "05892088-e150-4b3e-9ec3-36905d0f73c4",
   "metadata": {},
   "outputs": [
    {
     "name": "stdout",
     "output_type": "stream",
     "text": [
      "Shapiro test for stage_1: W=0.751, p=0.000\n",
      "Shapiro test for stage_2: W=0.831, p=0.000\n",
      "Shapiro test for stage_3: W=0.847, p=0.000\n",
      "Shapiro test for stage_4: W=0.675, p=0.000\n",
      "Shapiro test for stage_5: W=0.758, p=0.000\n"
     ]
    }
   ],
   "source": [
    "for cluster in df['Cluster'].unique():\n",
    "    w, p = shapiro(df[df['Cluster'] == cluster]['Explanation'])\n",
    "    print(f'Shapiro test for {cluster}: W={w:.3f}, p={p:.3f}')"
   ]
  },
  {
   "cell_type": "code",
   "execution_count": 125,
   "id": "f90cdf4d-38c2-44e8-b702-3bad6d7b446d",
   "metadata": {},
   "outputs": [
    {
     "name": "stdout",
     "output_type": "stream",
     "text": [
      "\n",
      "# Friedman Test for Related Samples\n",
      "H0: The distributions of Explanation are the same across Prompt groups\n",
      "H1: At least one Prompt group differs\n",
      "\n",
      "Groups found: ['Four', 'Two', 'Zero']\n",
      "Friedman test: Chi-square = 7.753, p = 0.021\n",
      "\n",
      "Significant differences found. Post-hoc Wilcoxon signed-rank tests (Bonferroni corrected):\n",
      "\n",
      "  Comparison  Wilcoxon Statistic  Raw p-value  Bonferroni p\n",
      " Four vs Two               237.5       0.1057        0.3172\n",
      "Four vs Zero               905.5       0.7629        1.0000\n",
      " Two vs Zero               660.0       0.3424        1.0000\n"
     ]
    }
   ],
   "source": [
    "def friedman_test_repeated_measures(df, id_col, group_col, value_col):\n",
    "    print(f\"\\n# Friedman Test for Related Samples\")\n",
    "    print(f\"H0: The distributions of {value_col} are the same across {group_col} groups\")\n",
    "    print(f\"H1: At least one {group_col} group differs\\n\")\n",
    "    \n",
    "    df_wide = df.pivot(index=id_col, columns=group_col, values=value_col).dropna()\n",
    "    \n",
    "    groups = df_wide.columns.tolist()\n",
    "    print(f\"Groups found: {groups}\")\n",
    "    \n",
    "    data_for_test = [df_wide[group] for group in groups]\n",
    "    \n",
    "    if any(len(g) == 0 for g in data_for_test):\n",
    "        print(\"Not enough data in one or more groups for testing.\")\n",
    "        return\n",
    "    \n",
    "    friedman_stat, friedman_p = stats.friedmanchisquare(*data_for_test)\n",
    "    print(f\"Friedman test: Chi-square = {friedman_stat:.3f}, p = {friedman_p:.3f}\\n\")\n",
    "    \n",
    "    # Post-hoc if significant\n",
    "    if friedman_p < 0.05:\n",
    "        print(\"Significant differences found. Post-hoc Wilcoxon signed-rank tests (Bonferroni corrected):\\n\")\n",
    "        results = []\n",
    "\n",
    "        for g1, g2 in combinations(groups, 2):\n",
    "            stat, p = stats.wilcoxon(df_wide[g1], df_wide[g2])\n",
    "            p_adj = min(p * 3, 1.0)  # 3 comparisons total → Bonferroni correction\n",
    "            results.append({\n",
    "                'Comparison': f\"{g1} vs {g2}\",\n",
    "                'Wilcoxon Statistic': round(stat, 3),\n",
    "                'Raw p-value': round(p, 4),\n",
    "                'Bonferroni p': round(p_adj, 4)\n",
    "            })\n",
    "\n",
    "        posthoc_df = pd.DataFrame(results)\n",
    "        print(posthoc_df.to_string(index=False))\n",
    "    else:\n",
    "        print(\"No significant differences found. Post-hoc tests not performed.\")\n",
    "\n",
    "friedman_test_repeated_measures(df, id_col='ID', group_col='Prompt', value_col='Explanation')"
   ]
  },
  {
   "cell_type": "markdown",
   "id": "77582768-84d0-48ab-b174-b75616a4e7b8",
   "metadata": {},
   "source": [
    "# Precision"
   ]
  },
  {
   "cell_type": "code",
   "execution_count": 26,
   "id": "b122b6fc-8390-428b-bd91-72903cdb318d",
   "metadata": {},
   "outputs": [
    {
     "name": "stdout",
     "output_type": "stream",
     "text": [
      "   Cluster      mean       std  count\n",
      "1  stage_2  0.814815  1.346891     54\n",
      "3  stage_4  0.666667  1.330124     27\n",
      "0  stage_1  0.642857  1.055102     42\n",
      "2  stage_3  0.545455  0.862587     66\n",
      "4  stage_5  0.333333  0.735980     33\n"
     ]
    }
   ],
   "source": [
    "precision_by_cluster = df.groupby('Cluster')['Precision'].agg(['mean', 'std', 'count']).reset_index()\n",
    "precision_by_cluster = precision_by_cluster.sort_values(by='mean', ascending=False)\n",
    "print(precision_by_cluster)\n"
   ]
  },
  {
   "cell_type": "code",
   "execution_count": 27,
   "id": "f7ad006b-57e0-4718-b973-a54b25723d6e",
   "metadata": {},
   "outputs": [
    {
     "name": "stderr",
     "output_type": "stream",
     "text": [
      "C:\\Users\\......\\ipykernel_14268\\1312063206.py:2: FutureWarning: \n",
      "\n",
      "The `ci` parameter is deprecated. Use `errorbar='sd'` for the same effect.\n",
      "\n",
      "  sns.barplot(data=df, x='Cluster', y='Precision', ci='sd', palette='coolwarm')\n",
      "C:\\Users\\......\\ipykernel_14268\\1312063206.py:2: FutureWarning: \n",
      "\n",
      "Passing `palette` without assigning `hue` is deprecated and will be removed in v0.14.0. Assign the `x` variable to `hue` and set `legend=False` for the same effect.\n",
      "\n",
      "  sns.barplot(data=df, x='Cluster', y='Precision', ci='sd', palette='coolwarm')\n"
     ]
    },
    {
     "data": {
      "image/png": "[encoded data removed]",
      "text/plain": [
       "<Figure size 800x500 with 1 Axes>"
      ]
     },
     "metadata": {},
     "output_type": "display_data"
    }
   ],
   "source": [
    "plt.figure(figsize=(8, 5))\n",
    "sns.barplot(data=df, x='Cluster', y='Precision', ci='sd', palette='coolwarm')\n",
    "plt.title('Average Precision Score by Cluster')\n",
    "plt.ylabel('Precision Score')\n",
    "plt.xlabel('Cluster')\n",
    "plt.tight_layout()\n",
    "plt.show()"
   ]
  },
  {
   "cell_type": "code",
   "execution_count": 155,
   "id": "3d0c64ee-5031-4465-8eb1-cd2a3abbe5ad",
   "metadata": {},
   "outputs": [
    {
     "name": "stdout",
     "output_type": "stream",
     "text": [
      "\n",
      "# Friedman Test for Related Samples\n",
      "H0: The distributions of Precision are the same across Prompt groups\n",
      "H1: At least one Prompt group differs\n",
      "\n",
      "Groups found: ['Four', 'Two', 'Zero']\n",
      "Friedman test: Chi-square = 15.155, p = 0.001\n",
      "\n",
      "Significant differences found. Post-hoc Wilcoxon signed-rank tests (Bonferroni corrected):\n",
      "\n",
      "  Comparison  Wilcoxon Statistic  Raw p-value  Bonferroni p\n",
      " Four vs Two               158.5       0.1907        0.5721\n",
      "Four vs Zero               132.0       0.0002        0.0005\n",
      " Two vs Zero               305.0       0.0046        0.0138\n"
     ]
    }
   ],
   "source": [
    "def friedman_test_repeated_measures(df, id_col, group_col, value_col):\n",
    "    print(f\"\\n# Friedman Test for Related Samples\")\n",
    "    print(f\"H0: The distributions of {value_col} are the same across {group_col} groups\")\n",
    "    print(f\"H1: At least one {group_col} group differs\\n\")\n",
    "    \n",
    "    df_wide = df.pivot(index=id_col, columns=group_col, values=value_col).dropna()\n",
    "    \n",
    "    groups = df_wide.columns.tolist()\n",
    "    print(f\"Groups found: {groups}\")\n",
    "    \n",
    "    data_for_test = [df_wide[group] for group in groups]\n",
    "    \n",
    "    if any(len(g) == 0 for g in data_for_test):\n",
    "        print(\"Not enough data in one or more groups for testing.\")\n",
    "        return\n",
    "    \n",
    "    friedman_stat, friedman_p = stats.friedmanchisquare(*data_for_test)\n",
    "    print(f\"Friedman test: Chi-square = {friedman_stat:.3f}, p = {friedman_p:.3f}\\n\")\n",
    "    \n",
    "    if friedman_p < 0.05:\n",
    "        print(\"Significant differences found. Post-hoc Wilcoxon signed-rank tests (Bonferroni corrected):\\n\")\n",
    "        results = []\n",
    "\n",
    "        for g1, g2 in combinations(groups, 2):\n",
    "            stat, p = stats.wilcoxon(df_wide[g1], df_wide[g2])\n",
    "            p_adj = min(p * 3, 1.0)  # 3 comparisons total → Bonferroni correction\n",
    "            results.append({\n",
    "                'Comparison': f\"{g1} vs {g2}\",\n",
    "                'Wilcoxon Statistic': round(stat, 3),\n",
    "                'Raw p-value': round(p, 4),\n",
    "                'Bonferroni p': round(p_adj, 4)\n",
    "            })\n",
    "\n",
    "        posthoc_df = pd.DataFrame(results)\n",
    "        print(posthoc_df.to_string(index=False))\n",
    "    else:\n",
    "        print(\"No significant differences found. Post-hoc tests not performed.\")\n",
    "\n",
    "friedman_test_repeated_measures(df, id_col='ID', group_col='Prompt', value_col='Precision')"
   ]
  },
  {
   "cell_type": "markdown",
   "id": "b14408f0-5dfa-47ac-a14a-0ae8f31cac58",
   "metadata": {},
   "source": [
    "# All At Once"
   ]
  },
  {
   "cell_type": "code",
   "execution_count": 133,
   "id": "7a062b99-4f04-4a84-b624-c258af5872ab",
   "metadata": {},
   "outputs": [
    {
     "name": "stdout",
     "output_type": "stream",
     "text": [
      "Mean scores by Cluster:\n",
      "         Alignment  Explanation  Precision\n",
      "Cluster                                   \n",
      "stage_1   1.190476     1.309524   0.642857\n",
      "stage_2   1.370370     1.388889   0.814815\n",
      "stage_3   1.227273     1.060606   0.545455\n",
      "stage_4   1.407407     1.222222   0.666667\n",
      "stage_5   0.787879     0.787879   0.333333\n",
      "\n",
      "Mean scores by Prompt:\n",
      "        Alignment  Explanation  Precision\n",
      "Prompt                                   \n",
      "Four     1.216216     1.108108   0.297297\n",
      "Two      0.851351     1.270270   0.486486\n",
      "Zero     1.567568     1.121622   1.054054\n"
     ]
    }
   ],
   "source": [
    "cluster_means = df.groupby('Cluster')[['Alignment', 'Explanation', 'Precision']].mean()\n",
    "print(\"Mean scores by Cluster:\")\n",
    "print(cluster_means)\n",
    "\n",
    "prompt_means = df.groupby('Prompt')[['Alignment', 'Explanation', 'Precision']].mean()\n",
    "print(\"\\nMean scores by Prompt:\")\n",
    "print(prompt_means)"
   ]
  },
  {
   "cell_type": "code",
   "execution_count": 135,
   "id": "c11e55c1-7da2-4e41-9679-ea6469126946",
   "metadata": {},
   "outputs": [
    {
     "name": "stdout",
     "output_type": "stream",
     "text": [
      "\n",
      "Testing Alignment by Cluster:\n",
      "Kruskal-Wallis H=2.407, p=0.661\n",
      "No significant differences found.\n",
      "\n",
      "Testing Explanation by Cluster:\n",
      "Kruskal-Wallis H=10.044, p=0.040\n",
      "Significant differences found, running post-hoc Dunn test:\n",
      "          stage_1   stage_2   stage_3  stage_4   stage_5\n",
      "stage_1  1.000000  1.000000  1.000000      1.0  0.130765\n",
      "stage_2  1.000000  1.000000  0.685970      1.0  0.040733\n",
      "stage_3  1.000000  0.685970  1.000000      1.0  0.938824\n",
      "stage_4  1.000000  1.000000  1.000000      1.0  1.000000\n",
      "stage_5  0.130765  0.040733  0.938824      1.0  1.000000\n",
      "\n",
      "Testing Precision by Cluster:\n",
      "Kruskal-Wallis H=3.191, p=0.526\n",
      "No significant differences found.\n"
     ]
    }
   ],
   "source": [
    "variables = ['Alignment', 'Explanation', 'Precision']\n",
    "groups = df['Cluster'].unique()\n",
    "\n",
    "for var in variables:\n",
    "    print(f\"\\nTesting {var} by Cluster:\")\n",
    "    data_by_group = [df[df['Cluster'] == g][var].dropna() for g in groups]\n",
    "    \n",
    "    kw_stat, kw_p = kruskal(*data_by_group)\n",
    "    print(f\"Kruskal-Wallis H={kw_stat:.3f}, p={kw_p:.3f}\")\n",
    "    \n",
    "    if kw_p < 0.05:\n",
    "        print(\"Significant differences found, running post-hoc Dunn test:\")\n",
    "        dunn = sp.posthoc_dunn(df, val_col=var, group_col='Cluster', p_adjust='holm')\n",
    "        print(dunn)\n",
    "    else:\n",
    "        print(\"No significant differences found.\")"
   ]
  },
  {
   "cell_type": "code",
   "execution_count": 137,
   "id": "30afb57d-4853-422a-b3c7-b9dd63a6f85b",
   "metadata": {},
   "outputs": [
    {
     "name": "stdout",
     "output_type": "stream",
     "text": [
      "\n",
      "Testing Alignment by Prompt:\n",
      "Kruskal-Wallis H=6.432, p=0.040\n",
      "Significant differences found, running post-hoc Dunn test:\n",
      "          Four       Two      Zero\n",
      "Four  1.000000  0.148429  0.504482\n",
      "Two   0.148429  1.000000  0.042532\n",
      "Zero  0.504482  0.042532  1.000000\n",
      "\n",
      "Testing Explanation by Prompt:\n",
      "Kruskal-Wallis H=10.326, p=0.006\n",
      "Significant differences found, running post-hoc Dunn test:\n",
      "          Four       Two      Zero\n",
      "Four  1.000000  0.317203  0.063978\n",
      "Two   0.317203  1.000000  0.004987\n",
      "Zero  0.063978  0.004987  1.000000\n",
      "\n",
      "Testing Precision by Prompt:\n",
      "Kruskal-Wallis H=19.519, p=0.000\n",
      "Significant differences found, running post-hoc Dunn test:\n",
      "          Four       Two      Zero\n",
      "Four  1.000000  0.250921  0.000059\n",
      "Two   0.250921  1.000000  0.003610\n",
      "Zero  0.000059  0.003610  1.000000\n"
     ]
    }
   ],
   "source": [
    "variables = ['Alignment', 'Explanation', 'Precision']\n",
    "groups = df['Prompt'].unique()\n",
    "\n",
    "for var in variables:\n",
    "    print(f\"\\nTesting {var} by Prompt:\")\n",
    "    data_by_group = [df[df['Prompt'] == g][var].dropna() for g in groups]\n",
    "    \n",
    "    kw_stat, kw_p = kruskal(*data_by_group)\n",
    "    print(f\"Kruskal-Wallis H={kw_stat:.3f}, p={kw_p:.3f}\")\n",
    "    \n",
    "    if kw_p < 0.05:\n",
    "        print(\"Significant differences found, running post-hoc Dunn test:\")\n",
    "        dunn = sp.posthoc_dunn(df, val_col=var, group_col='Prompt', p_adjust='holm')\n",
    "        print(dunn)\n",
    "    else:\n",
    "        print(\"No significant differences found.\")"
   ]
  },
  {
   "cell_type": "code",
   "execution_count": 141,
   "id": "ce707a54-b518-4c89-a85c-03d6076c071b",
   "metadata": {},
   "outputs": [
    {
     "name": "stdout",
     "output_type": "stream",
     "text": [
      "                          sum_sq     df         F    PR(>F)\n",
      "C(Prompt)              14.309996    2.0  3.472966  0.032845\n",
      "C(Cluster)             11.818120    4.0  1.434100  0.223894\n",
      "C(Prompt):C(Cluster)   19.596765    8.0  1.189010  0.307036\n",
      "Residual              426.461039  207.0       NaN       NaN\n"
     ]
    }
   ],
   "source": [
    "model = ols('Alignment ~ C(Prompt) + C(Cluster) + C(Prompt):C(Cluster)', data=df).fit()\n",
    "\n",
    "anova_robust = sm.stats.anova_lm(model, typ=2, robust='hc3')\n",
    "\n",
    "print(anova_robust)"
   ]
  },
  {
   "cell_type": "markdown",
   "id": "2a3ccfa2-6c62-42c8-8c27-011b8e402d46",
   "metadata": {},
   "source": [
    "# Best in show"
   ]
  },
  {
   "cell_type": "code",
   "execution_count": 89,
   "id": "a15f82b0-fbba-4b80-a479-a2c9a810a86b",
   "metadata": {},
   "outputs": [
    {
     "name": "stdout",
     "output_type": "stream",
     "text": [
      "Top 5 Images by Combined Score (across all prompts):\n",
      "    Alignment  Explanation  Precision  Combined_Score\n",
      "ID                                                   \n",
      "16         14            9         11              34\n",
      "23         10            6          5              21\n",
      "20          9            7          5              21\n",
      "21          6            6          7              19\n",
      "63          6            7          5              18\n"
     ]
    }
   ],
   "source": [
    "score_sum_per_id = df.groupby('ID')[['Alignment', 'Explanation', 'Precision']].sum()\n",
    "\n",
    "score_sum_per_id['Combined_Score'] = score_sum_per_id.sum(axis=1)\n",
    "\n",
    "top5 = score_sum_per_id.sort_values(by='Combined_Score', ascending=False).head(5)\n",
    "\n",
    "print(\"Top 5 Images by Combined Score (across all prompts):\")\n",
    "print(top5)"
   ]
  },
  {
   "cell_type": "code",
   "execution_count": null,
   "id": "58937ce5-7300-479b-99de-286fb4c9ec29",
   "metadata": {},
   "outputs": [],
   "source": []
  },
  {
   "cell_type": "code",
   "execution_count": null,
   "id": "44668c7a-bb71-4abb-964d-064063515248",
   "metadata": {},
   "outputs": [],
   "source": []
  }
 ],
 "metadata": {
  "kernelspec": {
   "display_name": "Python 3 (ipykernel)",
   "language": "python",
   "name": "python3"
  },
  "language_info": {
   "codemirror_mode": {
    "name": "ipython",
    "version": 3
   },
   "file_extension": ".py",
   "mimetype": "text/x-python",
   "name": "python",
   "nbconvert_exporter": "python",
   "pygments_lexer": "ipython3",
   "version": "3.12.7"
  }
 },
 "nbformat": 4,
 "nbformat_minor": 5
}
